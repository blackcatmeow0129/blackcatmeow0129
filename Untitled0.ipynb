{
  "nbformat": 4,
  "nbformat_minor": 0,
  "metadata": {
    "colab": {
      "provenance": [],
      "authorship_tag": "ABX9TyPTgJkZMIRDwKzCjG7MUtnW",
      "include_colab_link": true
    },
    "kernelspec": {
      "name": "python3",
      "display_name": "Python 3"
    },
    "language_info": {
      "name": "python"
    }
  },
  "cells": [
    {
      "cell_type": "markdown",
      "metadata": {
        "id": "view-in-github",
        "colab_type": "text"
      },
      "source": [
        "<a href=\"https://colab.research.google.com/github/blackcatmeow0129/blackcatmeow0129/blob/main/Untitled0.ipynb\" target=\"_parent\"><img src=\"https://colab.research.google.com/assets/colab-badge.svg\" alt=\"Open In Colab\"/></a>"
      ]
    },
    {
      "cell_type": "code",
      "source": [
        "class Unit:\n",
        "  def __init__(self,name,hp,damage):\n",
        "    self.name = name\n",
        "    self.hp = hp\n",
        "    self.damage = damage\n",
        "    print(\"{0} 유닛이 생성 되었습니다.\".format(self.name))\n",
        "    print(\"체력 {0}, 공격력 {1}\".format(self.hp, self.damage))\n",
        "class AttackUnit(Unit):\n",
        "  def __init__(self,name,hp,damage):\n",
        "    self.name = name\n",
        "    self.hp = hp\n",
        "    self.damage = damage\n",
        "\n",
        "  def attack(self,location):\n",
        "    print(\"{0} : {1} 방향으로 적군을 공격 합니다. [공격력 {2}]\".format(self.name,location,self.damage))\n",
        "\n",
        "  def damaged(self,damage):\n",
        "    print(\"{0} : 현재 체력은 {1}입니다.\".format(self.name,self.hp))\n",
        "    selt.hp-=damage\n",
        "    pritn(\"{0} : 현재 체력은 {1}입니다. \".format(self.name,self.hp))\n",
        "    if self.hp<=0:\n",
        "      print(\"{0} : 파괴되었습니다.\".format(self.name))\n",
        "\n",
        "marine1=Unit(\"마린\",40,4)\n",
        "tank=AttackUnit(\"탱크\",150,35)\n",
        "\n",
        "#공격을 받고있다 가정\n",
        "tank.attack(\"마린\")\n",
        "marine1.damaged(tank.damage)\n",
        "marine1.damaged(tank.damage)"
      ],
      "metadata": {
        "id": "Om9QwIFrfNQ7",
        "outputId": "77d7fe6a-61da-477d-ab9b-c6796d104bf7",
        "colab": {
          "base_uri": "https://localhost:8080/",
          "height": 255
        }
      },
      "execution_count": 9,
      "outputs": [
        {
          "output_type": "stream",
          "name": "stdout",
          "text": [
            "마린 유닛이 생성 되었습니다.\n",
            "체력 40, 공격력 4\n",
            "탱크 : 마린 방향으로 적군을 공격 합니다. [공격력 35]\n"
          ]
        },
        {
          "output_type": "error",
          "ename": "AttributeError",
          "evalue": "'Unit' object has no attribute 'damaged'",
          "traceback": [
            "\u001b[0;31m---------------------------------------------------------------------------\u001b[0m",
            "\u001b[0;31mAttributeError\u001b[0m                            Traceback (most recent call last)",
            "\u001b[0;32m<ipython-input-9-ef178158ade9>\u001b[0m in \u001b[0;36m<cell line: 29>\u001b[0;34m()\u001b[0m\n\u001b[1;32m     27\u001b[0m \u001b[0;31m#공격을 받고있다 가정\u001b[0m\u001b[0;34m\u001b[0m\u001b[0;34m\u001b[0m\u001b[0m\n\u001b[1;32m     28\u001b[0m \u001b[0mtank\u001b[0m\u001b[0;34m.\u001b[0m\u001b[0mattack\u001b[0m\u001b[0;34m(\u001b[0m\u001b[0;34m\"마린\"\u001b[0m\u001b[0;34m)\u001b[0m\u001b[0;34m\u001b[0m\u001b[0;34m\u001b[0m\u001b[0m\n\u001b[0;32m---> 29\u001b[0;31m \u001b[0mmarine1\u001b[0m\u001b[0;34m.\u001b[0m\u001b[0mdamaged\u001b[0m\u001b[0;34m(\u001b[0m\u001b[0mtank\u001b[0m\u001b[0;34m.\u001b[0m\u001b[0mdamage\u001b[0m\u001b[0;34m)\u001b[0m\u001b[0;34m\u001b[0m\u001b[0;34m\u001b[0m\u001b[0m\n\u001b[0m\u001b[1;32m     30\u001b[0m \u001b[0mmarine1\u001b[0m\u001b[0;34m.\u001b[0m\u001b[0mdamaged\u001b[0m\u001b[0;34m(\u001b[0m\u001b[0mtank\u001b[0m\u001b[0;34m.\u001b[0m\u001b[0mdamage\u001b[0m\u001b[0;34m)\u001b[0m\u001b[0;34m\u001b[0m\u001b[0;34m\u001b[0m\u001b[0m\n",
            "\u001b[0;31mAttributeError\u001b[0m: 'Unit' object has no attribute 'damaged'"
          ]
        }
      ]
    },
    {
      "cell_type": "markdown",
      "source": [],
      "metadata": {
        "id": "hT9oqR1XXUXZ"
      }
    }
  ]
}